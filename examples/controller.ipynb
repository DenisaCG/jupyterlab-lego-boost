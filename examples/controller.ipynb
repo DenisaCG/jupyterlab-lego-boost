{
 "cells": [
  {
   "cell_type": "code",
   "execution_count": 2,
   "id": "5c2db71d-d832-4ab3-8026-5ba8529032ae",
   "metadata": {},
   "outputs": [],
   "source": [
    "# uncomment the line below to download ipywidgets, if you don't have it\n",
    "# !pip install ipywidgets"
   ]
  },
  {
   "cell_type": "code",
   "execution_count": 3,
   "id": "1f5760ec-3540-461a-84ed-359bac5a7db4",
   "metadata": {},
   "outputs": [],
   "source": [
    "import ipywidgets as wid\n",
    "from pylgbst.hub import MoveHub\n",
    "from pylgbst import get_connection_bleak\n",
    "import time\n",
    "import random"
   ]
  },
  {
   "cell_type": "code",
   "execution_count": 4,
   "id": "58d8a6f4-e17a-4a87-beb3-23d1e683015c",
   "metadata": {},
   "outputs": [],
   "source": [
    "# initializing the controller\n",
    "gamepad = wid.Controller()"
   ]
  },
  {
   "cell_type": "code",
   "execution_count": null,
   "id": "5f9947e7-b4a9-42fb-aff9-e8fb2060da5f",
   "metadata": {},
   "outputs": [],
   "source": [
    "# connecting to the MoveHub using its individual Bluetooth address \n",
    "conn = get_connection_bleak(hub_mac='00:16:53:C3:C2:4F', hub_name=MoveHub.DEFAULT_NAME)\n",
    "hub = MoveHub(conn)"
   ]
  },
  {
   "cell_type": "code",
   "execution_count": null,
   "id": "8fb85790-a43c-4b8c-b609-fb0caf7b5dea",
   "metadata": {},
   "outputs": [],
   "source": [
    "def on_sent(data):\n",
    "    if gamepad.connected:\n",
    "        # moving forward (right joystick)\n",
    "        if data['owner'].axes[3].value < 0:\n",
    "            hub.motor_AB.timed(1, 0.1, 0.1)\n",
    "            \n",
    "        # moving backwards (right joystick)\n",
    "        if data['owner'].axes[3].value > 0:\n",
    "            hub.motor_AB.timed(1, -0.1, -0.1)\n",
    "            \n",
    "        # moving to the right (right joystick)\n",
    "        if data['owner'].axes[2].value < 0:\n",
    "            hub.motor_A.angled(540, 1)\n",
    "            \n",
    "        # moving to the left (right joystick)\n",
    "        if data['owner'].axes[2].value > 0:\n",
    "            hub.motor_B.angled(540, 1)\n",
    "            \n",
    "        # speeding forward (R2 button)\n",
    "        if data['owner'].button[7].value:\n",
    "            hub.motor_AB.timed(1, 2, 2)\n",
    "        \n",
    "        # stoping the motors fully (R1 button)\n",
    "        if data['owner'].button[5].value:\n",
    "            hub.motor_external.stop()\n",
    "        \n",
    "        # changing led color (select button)\n",
    "        if data['owner'].button[8].value:\n",
    "            # randomly generated color\n",
    "            color = (random.randint(0, 255), random.randint(0, 255), random.randint(0, 255))\n",
    "            hub.led.set_color(color)\n",
    "            \n",
    "        # move in a square (B button)\n",
    "        if data['owner'].button[0].value:\n",
    "            for count in range(4):\n",
    "                hub.motor_AB.timed(2, 0.2, 0.2)\n",
    "                hub.motor_A.angled(540, 1)\n",
    "        \n",
    "        # move in a circle (A button)\n",
    "        if data['owner'].button[1].value:\n",
    "            for count in range(4):\n",
    "                hub.motor_AB.timed(1.1, (-0.5), (-0.9))\n",
    "        \n",
    "        # rotate 360° (Y button)\n",
    "        if data['owner'].button[2].value:\n",
    "            hub.motor_A.timed(1.7, 1)\n",
    "            \n",
    "        # distance detection (up arrow) \n",
    "        if data['owner'].button[12].value:\n",
    "            def callback(distance):\n",
    "                print(\"Distance: %s\" % (distance))\n",
    "                \n",
    "            hub.vision_sensor.subscribe(callback, mode=VisionSensor.DISTANCE_INCHES)\n",
    "            time.sleep(2)# play with sensor while it waits\n",
    "            hub.vision_sensor.unsubscribe(callback)\n",
    "            \n",
    "        # color detection (left arrow) \n",
    "        if data['owner'].button[14].value:\n",
    "            def callback(color):\n",
    "                print(\"Color: %s\" % (color))\n",
    "                \n",
    "            hub.vision_sensor.subscribe(callback, mode=VisionSensor.COLOR_INDEX)\n",
    "            time.sleep(2)# play with sensor while it waits\n",
    "            hub.vision_sensor.unsubscribe(callback)\n",
    "            \n",
    "        # detect color and distance (down arrow)\n",
    "        if data['owner'].button[13].value:\n",
    "            def callback(color, distance):\n",
    "                print(\"Color: %s / Distance: %s\" % (color, distance))\n",
    "                \n",
    "            hub.vision_sensor.subscribe(callback, mode=VisionSensor.COLOR_DISTANCE_FLOAT)\n",
    "            time.sleep(2)# play with sensor while it waits\n",
    "            hub.vision_sensor.unsubscribe(callback)\n",
    "            \n",
    "        # detect 3-axis position (right arrow)\n",
    "        if data['owner'].button[15].value:\n",
    "            def callback(roll, pitch, yaw):\n",
    "                print(\"Roll: %s / Pitch: %s / Yaw: %s\" % (roll, pitch, yaw))\n",
    "                \n",
    "            hub.tilt_sensor.subscribe(callback, mode=TiltSensor.MODE_2AXIS_ACCEL)\n",
    "            time.sleep(2)# play with sensor while it waits\n",
    "            hub.tilt_sensor.unsubscribe(callback)\n",
    "\n",
    "        # second joystick for controlling head position? (experiment)\n",
    "        \n",
    "gamepad.observe(on_sent)\n",
    "gamepad\n",
    "# buttons are corresponding to a 8BitDo Controller"
   ]
  },
  {
   "cell_type": "code",
   "execution_count": null,
   "id": "926e52ba-251f-4495-8859-9ad61f2d90b7",
   "metadata": {},
   "outputs": [],
   "source": [
    "# disconnecting from the MoveHub\n",
    "hub.disconnect()"
   ]
  },
  {
   "cell_type": "code",
   "execution_count": null,
   "id": "4b34a619-d1d1-4a95-a44d-dc09a97f5aaf",
   "metadata": {},
   "outputs": [],
   "source": []
  }
 ],
 "metadata": {
  "kernelspec": {
   "display_name": "Python 3",
   "language": "python",
   "name": "python3"
  },
  "language_info": {
   "codemirror_mode": {
    "name": "ipython",
    "version": 3
   },
   "file_extension": ".py",
   "mimetype": "text/x-python",
   "name": "python",
   "nbconvert_exporter": "python",
   "pygments_lexer": "ipython3",
   "version": "3.10.5"
  }
 },
 "nbformat": 4,
 "nbformat_minor": 5
}
